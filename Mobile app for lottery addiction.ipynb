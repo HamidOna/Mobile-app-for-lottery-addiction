{
 "cells": [
  {
   "cell_type": "markdown",
   "metadata": {},
   "source": [
    "# Building App for Lottery Addiction.\n",
    "# Developing a Lottery Addiction App.\n",
    "We will contribute to the development of a mobile app by building a couple of functions that are mostly focused on calculating probabilities in this project. By assisting consumers in properly estimating their chances of winning, the software aims to both prevent and treat lottery addiction.\n",
    "\n",
    "\n",
    "The concept for the app came from a medical center that specializes in treating gambling addictions. The institute already has a team of developers who will build the app, but we'll be responsible for the logical core and probability calculations. They want us to focus on the 6/49 lottery for the first version of the app and design functionalities that can answer the following questions for users:\n",
    "\n",
    "How likely is it that a single ticket will win the grand prize?\n",
    "What are the chances of winning the grand prize if we buy 40 tickets (or any other number)?\n",
    "\n",
    "What is the likelihood of a single ticket containing at least five (or four, or three) winning numbers?\n",
    "\n",
    "The scenario we'll be following for the duration of this project is hypothetical; the goal is to practice using probability and combinatorics (permutations and combinations) principles in a context that mimics a real-world situation.\n"
   ]
  },
  {
   "cell_type": "markdown",
   "metadata": {},
   "source": [
    "## Importing and Exploring Dataset"
   ]
  },
  {
   "cell_type": "code",
   "execution_count": 2,
   "metadata": {},
   "outputs": [],
   "source": [
    "import pandas as pd\n",
    "import matplotlib.pyplot as plt\n",
    "\n",
    "six49 = pd.read_csv(\"649.csv\")"
   ]
  },
  {
   "cell_type": "code",
   "execution_count": 3,
   "metadata": {},
   "outputs": [
    {
     "data": {
      "text/html": [
       "<div>\n",
       "<style scoped>\n",
       "    .dataframe tbody tr th:only-of-type {\n",
       "        vertical-align: middle;\n",
       "    }\n",
       "\n",
       "    .dataframe tbody tr th {\n",
       "        vertical-align: top;\n",
       "    }\n",
       "\n",
       "    .dataframe thead th {\n",
       "        text-align: right;\n",
       "    }\n",
       "</style>\n",
       "<table border=\"1\" class=\"dataframe\">\n",
       "  <thead>\n",
       "    <tr style=\"text-align: right;\">\n",
       "      <th></th>\n",
       "      <th>PRODUCT</th>\n",
       "      <th>DRAW NUMBER</th>\n",
       "      <th>SEQUENCE NUMBER</th>\n",
       "      <th>DRAW DATE</th>\n",
       "      <th>NUMBER DRAWN 1</th>\n",
       "      <th>NUMBER DRAWN 2</th>\n",
       "      <th>NUMBER DRAWN 3</th>\n",
       "      <th>NUMBER DRAWN 4</th>\n",
       "      <th>NUMBER DRAWN 5</th>\n",
       "      <th>NUMBER DRAWN 6</th>\n",
       "      <th>BONUS NUMBER</th>\n",
       "    </tr>\n",
       "  </thead>\n",
       "  <tbody>\n",
       "    <tr>\n",
       "      <th>0</th>\n",
       "      <td>649</td>\n",
       "      <td>1</td>\n",
       "      <td>0</td>\n",
       "      <td>6/12/1982</td>\n",
       "      <td>3</td>\n",
       "      <td>11</td>\n",
       "      <td>12</td>\n",
       "      <td>14</td>\n",
       "      <td>41</td>\n",
       "      <td>43</td>\n",
       "      <td>13</td>\n",
       "    </tr>\n",
       "    <tr>\n",
       "      <th>1</th>\n",
       "      <td>649</td>\n",
       "      <td>2</td>\n",
       "      <td>0</td>\n",
       "      <td>6/19/1982</td>\n",
       "      <td>8</td>\n",
       "      <td>33</td>\n",
       "      <td>36</td>\n",
       "      <td>37</td>\n",
       "      <td>39</td>\n",
       "      <td>41</td>\n",
       "      <td>9</td>\n",
       "    </tr>\n",
       "    <tr>\n",
       "      <th>2</th>\n",
       "      <td>649</td>\n",
       "      <td>3</td>\n",
       "      <td>0</td>\n",
       "      <td>6/26/1982</td>\n",
       "      <td>1</td>\n",
       "      <td>6</td>\n",
       "      <td>23</td>\n",
       "      <td>24</td>\n",
       "      <td>27</td>\n",
       "      <td>39</td>\n",
       "      <td>34</td>\n",
       "    </tr>\n",
       "    <tr>\n",
       "      <th>3</th>\n",
       "      <td>649</td>\n",
       "      <td>4</td>\n",
       "      <td>0</td>\n",
       "      <td>7/3/1982</td>\n",
       "      <td>3</td>\n",
       "      <td>9</td>\n",
       "      <td>10</td>\n",
       "      <td>13</td>\n",
       "      <td>20</td>\n",
       "      <td>43</td>\n",
       "      <td>34</td>\n",
       "    </tr>\n",
       "    <tr>\n",
       "      <th>4</th>\n",
       "      <td>649</td>\n",
       "      <td>5</td>\n",
       "      <td>0</td>\n",
       "      <td>7/10/1982</td>\n",
       "      <td>5</td>\n",
       "      <td>14</td>\n",
       "      <td>21</td>\n",
       "      <td>31</td>\n",
       "      <td>34</td>\n",
       "      <td>47</td>\n",
       "      <td>45</td>\n",
       "    </tr>\n",
       "  </tbody>\n",
       "</table>\n",
       "</div>"
      ],
      "text/plain": [
       "   PRODUCT  DRAW NUMBER  SEQUENCE NUMBER  DRAW DATE  NUMBER DRAWN 1  \\\n",
       "0      649            1                0  6/12/1982               3   \n",
       "1      649            2                0  6/19/1982               8   \n",
       "2      649            3                0  6/26/1982               1   \n",
       "3      649            4                0   7/3/1982               3   \n",
       "4      649            5                0  7/10/1982               5   \n",
       "\n",
       "   NUMBER DRAWN 2  NUMBER DRAWN 3  NUMBER DRAWN 4  NUMBER DRAWN 5  \\\n",
       "0              11              12              14              41   \n",
       "1              33              36              37              39   \n",
       "2               6              23              24              27   \n",
       "3               9              10              13              20   \n",
       "4              14              21              31              34   \n",
       "\n",
       "   NUMBER DRAWN 6  BONUS NUMBER  \n",
       "0              43            13  \n",
       "1              41             9  \n",
       "2              39            34  \n",
       "3              43            34  \n",
       "4              47            45  "
      ]
     },
     "execution_count": 3,
     "metadata": {},
     "output_type": "execute_result"
    }
   ],
   "source": [
    "six49.head()"
   ]
  },
  {
   "cell_type": "code",
   "execution_count": 4,
   "metadata": {},
   "outputs": [
    {
     "name": "stdout",
     "output_type": "stream",
     "text": [
      "<class 'pandas.core.frame.DataFrame'>\n",
      "RangeIndex: 3665 entries, 0 to 3664\n",
      "Data columns (total 11 columns):\n",
      " #   Column           Non-Null Count  Dtype \n",
      "---  ------           --------------  ----- \n",
      " 0   PRODUCT          3665 non-null   int64 \n",
      " 1   DRAW NUMBER      3665 non-null   int64 \n",
      " 2   SEQUENCE NUMBER  3665 non-null   int64 \n",
      " 3   DRAW DATE        3665 non-null   object\n",
      " 4   NUMBER DRAWN 1   3665 non-null   int64 \n",
      " 5   NUMBER DRAWN 2   3665 non-null   int64 \n",
      " 6   NUMBER DRAWN 3   3665 non-null   int64 \n",
      " 7   NUMBER DRAWN 4   3665 non-null   int64 \n",
      " 8   NUMBER DRAWN 5   3665 non-null   int64 \n",
      " 9   NUMBER DRAWN 6   3665 non-null   int64 \n",
      " 10  BONUS NUMBER     3665 non-null   int64 \n",
      "dtypes: int64(10), object(1)\n",
      "memory usage: 315.1+ KB\n"
     ]
    }
   ],
   "source": [
    "six49.info()"
   ]
  },
  {
   "cell_type": "markdown",
   "metadata": {},
   "source": [
    "## Primary functions\n",
    "We'll write two functions that we'll use frequently in the sections below:\n",
    "\n",
    "- combinations() — a function that calculates combinations \n",
    "- factorial() — a function that calculates factorials"
   ]
  },
  {
   "cell_type": "code",
   "execution_count": 5,
   "metadata": {},
   "outputs": [],
   "source": [
    "def factorial(x):\n",
    "    product = 1\n",
    "    for x in range(1,x+1):\n",
    "        product *=x\n",
    "    return product\n",
    "\n",
    "def combination(n, k):\n",
    "    return (factorial(n)/(factorial(k)*factorial(n-k)))"
   ]
  },
  {
   "cell_type": "code",
   "execution_count": 6,
   "metadata": {},
   "outputs": [
    {
     "name": "stdout",
     "output_type": "stream",
     "text": [
      "120\n",
      "190578024.0\n"
     ]
    }
   ],
   "source": [
    "print(factorial(5))\n",
    "print(combination(120,5))"
   ]
  },
  {
   "cell_type": "markdown",
   "metadata": {},
   "source": [
    "## Winning Ticket\n",
    "We'll need to create a function that calculates the chances of winning the top prize for each ticket. Six numbers are picked from a pool of 49 for each drawing, and a player wins the jackpot if the six numbers on their tickets match all six numbers.\n",
    "\n",
    "\n",
    "When writing the function, the engineer team advised us to pay attention to the following details:\n",
    "\n",
    "- The user enters six numbers ranging from 1 to 49 into the program.\n",
    "- The six numbers will be sent to our function as a Python list and will be used as an input.\n",
    "- The engineering team needs the function to print the probability value in a nice manner that anyone can comprehend, even if they have no prior experience with probability.\n",
    "The `one ticket probability()` function is written below, and it takes a list of six unique integers and prints the probability of winning in an easy-to-understand format."
   ]
  },
  {
   "cell_type": "code",
   "execution_count": 7,
   "metadata": {},
   "outputs": [
    {
     "name": "stdout",
     "output_type": "stream",
     "text": [
      "The probability of this ticket winning is 0.0000000715. That is, you stand a 1 in 13,983,816.0 chance of winning\n"
     ]
    }
   ],
   "source": [
    "def one_ticket_probability(x=[]):\n",
    "    combinations = combination(49, len(x))\n",
    "    prob = 1/combinations\n",
    "    print(\"The probability of this ticket winning is {probability:.10f}. That is, you stand a 1 in {chance:,} chance of winning\".format(probability=prob, chance=combinations))\n",
    "one_ticket_probability([2,3,5,7,8,10])"
   ]
  },
  {
   "cell_type": "code",
   "execution_count": 8,
   "metadata": {},
   "outputs": [],
   "source": [
    "def extract_numbers(row):\n",
    "    row = row[4:10]\n",
    "    numbers = set(row.values)\n",
    "    return numbers"
   ]
  },
  {
   "cell_type": "code",
   "execution_count": 9,
   "metadata": {
    "scrolled": true
   },
   "outputs": [
    {
     "data": {
      "text/plain": [
       "0    {3, 41, 11, 12, 43, 14}\n",
       "1    {33, 36, 37, 39, 8, 41}\n",
       "2     {1, 6, 39, 23, 24, 27}\n",
       "3     {3, 9, 10, 43, 13, 20}\n",
       "4    {34, 5, 14, 47, 21, 31}\n",
       "dtype: object"
      ]
     },
     "execution_count": 9,
     "metadata": {},
     "output_type": "execute_result"
    }
   ],
   "source": [
    "winning_tickets = six49.apply(extract_numbers, axis=1)\n",
    "winning_tickets.head()"
   ]
  },
  {
   "cell_type": "markdown",
   "metadata": {},
   "source": [
    "## Historical Data check\n",
    "The institute also wants us to take into account data from Canada's national 6/49 lottery game. From 1982 through 2018, the data set contains historical data for 3,665 drawings (the data set can be downloaded from [here](https://www.kaggle.com/datascienceai/lottery-dataset))."
   ]
  },
  {
   "cell_type": "code",
   "execution_count": 10,
   "metadata": {},
   "outputs": [
    {
     "name": "stdout",
     "output_type": "stream",
     "text": [
      "This {33, 36, 37, 39, 8, 41} combination has occurred 1 time(s) in the past. Your chance of winning with this ticket is 0.0000000715. That is, you stand a 1 in 13,983,816.0 chance of winning.\n"
     ]
    }
   ],
   "source": [
    "def check_historical_occurence(user_numbers, winning_tickets):\n",
    "    user_numbers = set(user_numbers)\n",
    "    y = (user_numbers ==winning_tickets).sum()\n",
    "    print(\"This {} combination has occurred {} time(s) in the past. Your chance of winning with this ticket is 0.0000000715. That is, you stand a 1 in 13,983,816.0 chance of winning.\".format(user_numbers, y))\n",
    "\n",
    "check_historical_occurence([33, 36, 37, 39, 8, 41], winning_tickets)"
   ]
  },
  {
   "cell_type": "code",
   "execution_count": 23,
   "metadata": {},
   "outputs": [],
   "source": [
    "def multi_ticket_probability(x):\n",
    "    n_combinations = combination(49, 6)\n",
    "    \n",
    "    probability = x / n_combinations\n",
    "    percentage_form = probability * 100\n",
    "    chance = round(n_combinations/x)\n",
    "    print(\"With {x} ticket(s), The probability of winning is {probability:.10f}. That is, you stand a 1 in {chance:,} chance of winning\\n\".format(probability= probability, chance=chance, x=x))\n"
   ]
  },
  {
   "cell_type": "code",
   "execution_count": 24,
   "metadata": {},
   "outputs": [
    {
     "name": "stdout",
     "output_type": "stream",
     "text": [
      "With 1 ticket(s), The probability of winning is 0.0000000715. That is, you stand a 1 in 13,983,816 chance of winning\n",
      "\n",
      "With 10 ticket(s), The probability of winning is 0.0000007151. That is, you stand a 1 in 1,398,382 chance of winning\n",
      "\n",
      "With 100 ticket(s), The probability of winning is 0.0000071511. That is, you stand a 1 in 139,838 chance of winning\n",
      "\n",
      "With 10000 ticket(s), The probability of winning is 0.0007151124. That is, you stand a 1 in 1,398 chance of winning\n",
      "\n",
      "With 1000000 ticket(s), The probability of winning is 0.0715112384. That is, you stand a 1 in 14 chance of winning\n",
      "\n",
      "With 6991908 ticket(s), The probability of winning is 0.5000000000. That is, you stand a 1 in 2 chance of winning\n",
      "\n",
      "With 13983816 ticket(s), The probability of winning is 1.0000000000. That is, you stand a 1 in 1 chance of winning\n",
      "\n"
     ]
    }
   ],
   "source": [
    "test = [1, 10, 100, 10000, 1000000, 6991908, 13983816]\n",
    "for x in  test:\n",
    "    multi_ticket_probability(x)"
   ]
  },
  {
   "cell_type": "markdown",
   "metadata": {},
   "source": [
    "## Sub Prizes for Less Numbers\n",
    "Smaller rewards are awarded in most 6/49 lotteries if a player's ticket matches two, three, four, or five of the six numbers picked. This means that gamers may be curious about the odds of having two, three, four, or five winning numbers – in the first edition of the app, users should be able to find such odds.\n",
    "\n",
    "These are the details to keep in mind when writing a function that allows us to calculate those probabilities:\n",
    "- Inside the app, the user inputs:\n",
    " - six different numbers from 1 to 49; and\n",
    " - an integer between 2 and 5 that represents the number of winning numbers expected\n",
    " \n",
    "Our function prints information about the probability of having a certain number of winning numbers\n",
    "The likelihood that a player's ticket matches exactly the provided amount of winning numbers is calculated using the function below. If a player wants to know the chances of getting five winning numbers, the function will return the exact odds of getting five winning numbers (no more and no less). The probability of having at least five winning numbers will not be returned by the function.\n",
    "\n",
    "To compute the probability, we inform the engineering team that the precise combination on the ticket is irrelevant, and that all we need is an integer between 2 and 5 that represents the predicted number of winning numbers. As a result, we'll construct a function called `probability_less_6()` that takes an integer and outputs information about the odds of winning based on that integer's value.\n",
    "\n",
    "\n",
    "The likelihood that a player's ticket matches exactly the provided amount of winning numbers is calculated using the function below. If a player wants to know the chances of getting five winning numbers, the function will return the exact odds of getting five winning numbers (no more and no less). This is not the same as the chance of having at least five winning number."
   ]
  },
  {
   "cell_type": "code",
   "execution_count": 25,
   "metadata": {},
   "outputs": [],
   "source": [
    "def probability_less_6(x):\n",
    "    number_combination = combination(6, x)\n",
    "    successful_outcomes = combination(43, 6-x)\n",
    "    total_combinations = combination(49, 6)\n",
    "    answer = (number_combination * successful_outcomes)/total_combinations\n",
    "    print(\"The probability that at least {number} of your 6 chosen numbers will be selected is {probability:.9f}. That is, a 1 in {chance:,}\".format(number=x, probability=answer, chance =round((total_combinations/(number_combination * successful_outcomes)),0)))"
   ]
  },
  {
   "cell_type": "code",
   "execution_count": 26,
   "metadata": {},
   "outputs": [
    {
     "name": "stdout",
     "output_type": "stream",
     "text": [
      "The probability that at least 2 of your 6 chosen numbers will be selected is 0.132378029. That is, a 1 in 8.0\n",
      "The probability that at least 3 of your 6 chosen numbers will be selected is 0.017650404. That is, a 1 in 57.0\n",
      "The probability that at least 4 of your 6 chosen numbers will be selected is 0.000968620. That is, a 1 in 1,032.0\n",
      "The probability that at least 5 of your 6 chosen numbers will be selected is 0.000018450. That is, a 1 in 54,201.0\n"
     ]
    }
   ],
   "source": [
    "test = range(2,6)\n",
    "for x in test:\n",
    "    probability_less_6(x)"
   ]
  },
  {
   "cell_type": "code",
   "execution_count": 27,
   "metadata": {},
   "outputs": [
    {
     "data": {
      "text/plain": [
       "43.0"
      ]
     },
     "execution_count": 27,
     "metadata": {},
     "output_type": "execute_result"
    }
   ],
   "source": [
    "combination(43,1)"
   ]
  },
  {
   "cell_type": "markdown",
   "metadata": {},
   "source": [
    "## Next steps\n",
    "For the first version of the app, we coded four main functions:\n",
    "\n",
    "- one_ticket_probability() — calculates the probability of winning the big prize with a single ticket\n",
    "- check_historical_occurrence() — checks whether a certain combination has occurred in the Canada lottery data set\n",
    "- multi_ticket_probability() — calculates the probability for any number of of tickets between 1 and 13,983,816\n",
    "- probability_less_6() — calculates the probability of having two, three, four or five winning numbers exactly\n",
    "Possible features for a second version of the app include:\n",
    "\n",
    "- Making the outputs even easier to understand by adding fun analogies (for example, we can find probabilities for strange events and compare with the chances of winning in lottery; for instance, we can output something along the lines \"You are 100 times more likely to be the victim of a shark attack than winning the lottery\")\n",
    "- Combining the one_ticket_probability() and check_historical_occurrence() to output information on probability and historical occurrence at the same time\n",
    "- Create a function similar to probability_less_6() which calculates the probability of having at least two, three, four or five winning numbers. Hint: the number of successful outcomes for having at least four winning numbers is the sum of these three numbers:\n",
    " - The number of successful outcomes for having four winning numbers exactly\n",
    " - The number of successful outcomes for having five winning numbers exactly\n",
    " - The number of successful outcomes for having six winning numbers exactly"
   ]
  },
  {
   "cell_type": "code",
   "execution_count": null,
   "metadata": {},
   "outputs": [],
   "source": []
  }
 ],
 "metadata": {
  "kernelspec": {
   "display_name": "Python 3",
   "language": "python",
   "name": "python3"
  },
  "language_info": {
   "codemirror_mode": {
    "name": "ipython",
    "version": 3
   },
   "file_extension": ".py",
   "mimetype": "text/x-python",
   "name": "python",
   "nbconvert_exporter": "python",
   "pygments_lexer": "ipython3",
   "version": "3.8.5"
  }
 },
 "nbformat": 4,
 "nbformat_minor": 4
}
